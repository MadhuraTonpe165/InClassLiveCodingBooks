{
  "nbformat": 4,
  "nbformat_minor": 0,
  "metadata": {
    "colab": {
      "provenance": [],
      "authorship_tag": "ABX9TyMoEf8gO3D80E6wPv1AwmAO",
      "include_colab_link": true
    },
    "kernelspec": {
      "name": "python3",
      "display_name": "Python 3"
    },
    "language_info": {
      "name": "python"
    }
  },
  "cells": [
    {
      "cell_type": "markdown",
      "metadata": {
        "id": "view-in-github",
        "colab_type": "text"
      },
      "source": [
        "<a href=\"https://colab.research.google.com/github/MadhuraTonpe165/InClassLiveCodingBooks/blob/main/catboost_classifier.ipynb\" target=\"_parent\"><img src=\"https://colab.research.google.com/assets/colab-badge.svg\" alt=\"Open In Colab\"/></a>"
      ]
    },
    {
      "cell_type": "code",
      "execution_count": 1,
      "metadata": {
        "colab": {
          "base_uri": "https://localhost:8080/"
        },
        "id": "tS_0inMtmUO2",
        "outputId": "00ad9955-026b-410e-9ccf-2896c31433d9"
      },
      "outputs": [
        {
          "output_type": "stream",
          "name": "stdout",
          "text": [
            "Collecting catboost\n",
            "  Downloading catboost-1.2.8-cp311-cp311-manylinux2014_x86_64.whl.metadata (1.2 kB)\n",
            "Requirement already satisfied: graphviz in /usr/local/lib/python3.11/dist-packages (from catboost) (0.20.3)\n",
            "Requirement already satisfied: matplotlib in /usr/local/lib/python3.11/dist-packages (from catboost) (3.10.0)\n",
            "Requirement already satisfied: numpy<3.0,>=1.16.0 in /usr/local/lib/python3.11/dist-packages (from catboost) (2.0.2)\n",
            "Requirement already satisfied: pandas>=0.24 in /usr/local/lib/python3.11/dist-packages (from catboost) (2.2.2)\n",
            "Requirement already satisfied: scipy in /usr/local/lib/python3.11/dist-packages (from catboost) (1.14.1)\n",
            "Requirement already satisfied: plotly in /usr/local/lib/python3.11/dist-packages (from catboost) (5.24.1)\n",
            "Requirement already satisfied: six in /usr/local/lib/python3.11/dist-packages (from catboost) (1.17.0)\n",
            "Requirement already satisfied: python-dateutil>=2.8.2 in /usr/local/lib/python3.11/dist-packages (from pandas>=0.24->catboost) (2.8.2)\n",
            "Requirement already satisfied: pytz>=2020.1 in /usr/local/lib/python3.11/dist-packages (from pandas>=0.24->catboost) (2025.2)\n",
            "Requirement already satisfied: tzdata>=2022.7 in /usr/local/lib/python3.11/dist-packages (from pandas>=0.24->catboost) (2025.2)\n",
            "Requirement already satisfied: contourpy>=1.0.1 in /usr/local/lib/python3.11/dist-packages (from matplotlib->catboost) (1.3.2)\n",
            "Requirement already satisfied: cycler>=0.10 in /usr/local/lib/python3.11/dist-packages (from matplotlib->catboost) (0.12.1)\n",
            "Requirement already satisfied: fonttools>=4.22.0 in /usr/local/lib/python3.11/dist-packages (from matplotlib->catboost) (4.57.0)\n",
            "Requirement already satisfied: kiwisolver>=1.3.1 in /usr/local/lib/python3.11/dist-packages (from matplotlib->catboost) (1.4.8)\n",
            "Requirement already satisfied: packaging>=20.0 in /usr/local/lib/python3.11/dist-packages (from matplotlib->catboost) (24.2)\n",
            "Requirement already satisfied: pillow>=8 in /usr/local/lib/python3.11/dist-packages (from matplotlib->catboost) (11.1.0)\n",
            "Requirement already satisfied: pyparsing>=2.3.1 in /usr/local/lib/python3.11/dist-packages (from matplotlib->catboost) (3.2.3)\n",
            "Requirement already satisfied: tenacity>=6.2.0 in /usr/local/lib/python3.11/dist-packages (from plotly->catboost) (9.1.2)\n",
            "Downloading catboost-1.2.8-cp311-cp311-manylinux2014_x86_64.whl (99.2 MB)\n",
            "\u001b[2K   \u001b[90m━━━━━━━━━━━━━━━━━━━━━━━━━━━━━━━━━━━━━━━━\u001b[0m \u001b[32m99.2/99.2 MB\u001b[0m \u001b[31m7.7 MB/s\u001b[0m eta \u001b[36m0:00:00\u001b[0m\n",
            "\u001b[?25hInstalling collected packages: catboost\n",
            "Successfully installed catboost-1.2.8\n"
          ]
        }
      ],
      "source": [
        "#Installing Catboost\n",
        "\n",
        "!pip install catboost"
      ]
    },
    {
      "cell_type": "code",
      "source": [
        "# Importing Important libaries\n",
        "import numpy as np\n",
        "import pandas as pd\n",
        "import matplotlib.pyplot as plt\n",
        "import seaborn as sns\n",
        "from sklearn.model_selection import train_test_split\n",
        "from sklearn import metrics\n",
        "from catboost import CatBoostClassifier\n",
        "import warnings\n",
        "\n",
        "warnings.filterwarnings('ignore')"
      ],
      "metadata": {
        "id": "yhpvHrfMmgHO"
      },
      "execution_count": 2,
      "outputs": []
    },
    {
      "cell_type": "code",
      "source": [
        "# Importing the data\n",
        "from sklearn.datasets import load_breast_cancer\n",
        "cancer = load_breast_cancer()\n",
        "print('Keys : ', cancer.keys())"
      ],
      "metadata": {
        "colab": {
          "base_uri": "https://localhost:8080/"
        },
        "id": "lxXPz2vkm8VN",
        "outputId": "81b0422a-a62b-45ed-ec8b-6a1def67bcb4"
      },
      "execution_count": 3,
      "outputs": [
        {
          "output_type": "stream",
          "name": "stdout",
          "text": [
            "Keys :  dict_keys(['data', 'target', 'frame', 'target_names', 'DESCR', 'feature_names', 'filename', 'data_module'])\n"
          ]
        }
      ]
    },
    {
      "cell_type": "code",
      "source": [
        "# EDA\n",
        "print(cancer.DESCR)"
      ],
      "metadata": {
        "colab": {
          "base_uri": "https://localhost:8080/"
        },
        "id": "VTLN8_jhnWqq",
        "outputId": "b186d293-688a-4cb4-b633-31c84e71aa5e"
      },
      "execution_count": 4,
      "outputs": [
        {
          "output_type": "stream",
          "name": "stdout",
          "text": [
            ".. _breast_cancer_dataset:\n",
            "\n",
            "Breast cancer wisconsin (diagnostic) dataset\n",
            "--------------------------------------------\n",
            "\n",
            "**Data Set Characteristics:**\n",
            "\n",
            ":Number of Instances: 569\n",
            "\n",
            ":Number of Attributes: 30 numeric, predictive attributes and the class\n",
            "\n",
            ":Attribute Information:\n",
            "    - radius (mean of distances from center to points on the perimeter)\n",
            "    - texture (standard deviation of gray-scale values)\n",
            "    - perimeter\n",
            "    - area\n",
            "    - smoothness (local variation in radius lengths)\n",
            "    - compactness (perimeter^2 / area - 1.0)\n",
            "    - concavity (severity of concave portions of the contour)\n",
            "    - concave points (number of concave portions of the contour)\n",
            "    - symmetry\n",
            "    - fractal dimension (\"coastline approximation\" - 1)\n",
            "\n",
            "    The mean, standard error, and \"worst\" or largest (mean of the three\n",
            "    worst/largest values) of these features were computed for each image,\n",
            "    resulting in 30 features.  For instance, field 0 is Mean Radius, field\n",
            "    10 is Radius SE, field 20 is Worst Radius.\n",
            "\n",
            "    - class:\n",
            "            - WDBC-Malignant\n",
            "            - WDBC-Benign\n",
            "\n",
            ":Summary Statistics:\n",
            "\n",
            "===================================== ====== ======\n",
            "                                        Min    Max\n",
            "===================================== ====== ======\n",
            "radius (mean):                        6.981  28.11\n",
            "texture (mean):                       9.71   39.28\n",
            "perimeter (mean):                     43.79  188.5\n",
            "area (mean):                          143.5  2501.0\n",
            "smoothness (mean):                    0.053  0.163\n",
            "compactness (mean):                   0.019  0.345\n",
            "concavity (mean):                     0.0    0.427\n",
            "concave points (mean):                0.0    0.201\n",
            "symmetry (mean):                      0.106  0.304\n",
            "fractal dimension (mean):             0.05   0.097\n",
            "radius (standard error):              0.112  2.873\n",
            "texture (standard error):             0.36   4.885\n",
            "perimeter (standard error):           0.757  21.98\n",
            "area (standard error):                6.802  542.2\n",
            "smoothness (standard error):          0.002  0.031\n",
            "compactness (standard error):         0.002  0.135\n",
            "concavity (standard error):           0.0    0.396\n",
            "concave points (standard error):      0.0    0.053\n",
            "symmetry (standard error):            0.008  0.079\n",
            "fractal dimension (standard error):   0.001  0.03\n",
            "radius (worst):                       7.93   36.04\n",
            "texture (worst):                      12.02  49.54\n",
            "perimeter (worst):                    50.41  251.2\n",
            "area (worst):                         185.2  4254.0\n",
            "smoothness (worst):                   0.071  0.223\n",
            "compactness (worst):                  0.027  1.058\n",
            "concavity (worst):                    0.0    1.252\n",
            "concave points (worst):               0.0    0.291\n",
            "symmetry (worst):                     0.156  0.664\n",
            "fractal dimension (worst):            0.055  0.208\n",
            "===================================== ====== ======\n",
            "\n",
            ":Missing Attribute Values: None\n",
            "\n",
            ":Class Distribution: 212 - Malignant, 357 - Benign\n",
            "\n",
            ":Creator:  Dr. William H. Wolberg, W. Nick Street, Olvi L. Mangasarian\n",
            "\n",
            ":Donor: Nick Street\n",
            "\n",
            ":Date: November, 1995\n",
            "\n",
            "This is a copy of UCI ML Breast Cancer Wisconsin (Diagnostic) datasets.\n",
            "https://goo.gl/U2Uwz2\n",
            "\n",
            "Features are computed from a digitized image of a fine needle\n",
            "aspirate (FNA) of a breast mass.  They describe\n",
            "characteristics of the cell nuclei present in the image.\n",
            "\n",
            "Separating plane described above was obtained using\n",
            "Multisurface Method-Tree (MSM-T) [K. P. Bennett, \"Decision Tree\n",
            "Construction Via Linear Programming.\" Proceedings of the 4th\n",
            "Midwest Artificial Intelligence and Cognitive Science Society,\n",
            "pp. 97-101, 1992], a classification method which uses linear\n",
            "programming to construct a decision tree.  Relevant features\n",
            "were selected using an exhaustive search in the space of 1-4\n",
            "features and 1-3 separating planes.\n",
            "\n",
            "The actual linear program used to obtain the separating plane\n",
            "in the 3-dimensional space is that described in:\n",
            "[K. P. Bennett and O. L. Mangasarian: \"Robust Linear\n",
            "Programming Discrimination of Two Linearly Inseparable Sets\",\n",
            "Optimization Methods and Software 1, 1992, 23-34].\n",
            "\n",
            "This database is also available through the UW CS ftp server:\n",
            "\n",
            "ftp ftp.cs.wisc.edu\n",
            "cd math-prog/cpo-dataset/machine-learn/WDBC/\n",
            "\n",
            ".. dropdown:: References\n",
            "\n",
            "  - W.N. Street, W.H. Wolberg and O.L. Mangasarian. Nuclear feature extraction\n",
            "    for breast tumor diagnosis. IS&T/SPIE 1993 International Symposium on\n",
            "    Electronic Imaging: Science and Technology, volume 1905, pages 861-870,\n",
            "    San Jose, CA, 1993.\n",
            "  - O.L. Mangasarian, W.N. Street and W.H. Wolberg. Breast cancer diagnosis and\n",
            "    prognosis via linear programming. Operations Research, 43(4), pages 570-577,\n",
            "    July-August 1995.\n",
            "  - W.H. Wolberg, W.N. Street, and O.L. Mangasarian. Machine learning techniques\n",
            "    to diagnose breast cancer from fine-needle aspirates. Cancer Letters 77 (1994)\n",
            "    163-171.\n",
            "\n"
          ]
        }
      ]
    },
    {
      "cell_type": "code",
      "source": [
        "# Separating the input and Output data\n",
        "X = cancer.data\n",
        "y = cancer.target\n",
        "\n",
        "#Performing train test split\n",
        "X_train, X_test, y_train, y_test = train_test_split(X, y, test_size= 0.2, random_state= 5)"
      ],
      "metadata": {
        "id": "E-cU7FYHoCdk"
      },
      "execution_count": 7,
      "outputs": []
    },
    {
      "cell_type": "code",
      "source": [
        "# Model training\n",
        "model = CatBoostClassifier(iterations= 100, verbose = 1)\n",
        "\n",
        "# Fitting the model\n",
        "model.fit(X_train, y_train)"
      ],
      "metadata": {
        "colab": {
          "base_uri": "https://localhost:8080/"
        },
        "id": "VUVyxeVroerg",
        "outputId": "becaa707-75d0-4b7d-c270-b82c655e1ba1"
      },
      "execution_count": 8,
      "outputs": [
        {
          "output_type": "stream",
          "name": "stdout",
          "text": [
            "Learning rate set to 0.0608\n",
            "0:\tlearn: 0.6011775\ttotal: 59.3ms\tremaining: 5.87s\n",
            "1:\tlearn: 0.5281026\ttotal: 67.5ms\tremaining: 3.31s\n",
            "2:\tlearn: 0.4585352\ttotal: 75.6ms\tremaining: 2.44s\n",
            "3:\tlearn: 0.4050207\ttotal: 83.9ms\tremaining: 2.01s\n",
            "4:\tlearn: 0.3536598\ttotal: 92.8ms\tremaining: 1.76s\n",
            "5:\tlearn: 0.3182832\ttotal: 101ms\tremaining: 1.58s\n",
            "6:\tlearn: 0.2774191\ttotal: 109ms\tremaining: 1.45s\n",
            "7:\tlearn: 0.2480185\ttotal: 117ms\tremaining: 1.34s\n",
            "8:\tlearn: 0.2181590\ttotal: 126ms\tremaining: 1.27s\n",
            "9:\tlearn: 0.1992732\ttotal: 134ms\tremaining: 1.2s\n",
            "10:\tlearn: 0.1828270\ttotal: 142ms\tremaining: 1.15s\n",
            "11:\tlearn: 0.1684718\ttotal: 150ms\tremaining: 1.1s\n",
            "12:\tlearn: 0.1550679\ttotal: 158ms\tremaining: 1.05s\n",
            "13:\tlearn: 0.1438777\ttotal: 166ms\tremaining: 1.02s\n",
            "14:\tlearn: 0.1337387\ttotal: 173ms\tremaining: 983ms\n",
            "15:\tlearn: 0.1261255\ttotal: 181ms\tremaining: 953ms\n",
            "16:\tlearn: 0.1173415\ttotal: 189ms\tremaining: 925ms\n",
            "17:\tlearn: 0.1111949\ttotal: 202ms\tremaining: 918ms\n",
            "18:\tlearn: 0.1055830\ttotal: 210ms\tremaining: 897ms\n",
            "19:\tlearn: 0.0984439\ttotal: 219ms\tremaining: 877ms\n",
            "20:\tlearn: 0.0945308\ttotal: 229ms\tremaining: 862ms\n",
            "21:\tlearn: 0.0910082\ttotal: 238ms\tremaining: 844ms\n",
            "22:\tlearn: 0.0874886\ttotal: 247ms\tremaining: 828ms\n",
            "23:\tlearn: 0.0842378\ttotal: 256ms\tremaining: 811ms\n",
            "24:\tlearn: 0.0800462\ttotal: 265ms\tremaining: 794ms\n",
            "25:\tlearn: 0.0758287\ttotal: 273ms\tremaining: 778ms\n",
            "26:\tlearn: 0.0731860\ttotal: 298ms\tremaining: 805ms\n",
            "27:\tlearn: 0.0707848\ttotal: 318ms\tremaining: 819ms\n",
            "28:\tlearn: 0.0677046\ttotal: 330ms\tremaining: 809ms\n",
            "29:\tlearn: 0.0650687\ttotal: 347ms\tremaining: 811ms\n",
            "30:\tlearn: 0.0628035\ttotal: 361ms\tremaining: 803ms\n",
            "31:\tlearn: 0.0599751\ttotal: 373ms\tremaining: 793ms\n",
            "32:\tlearn: 0.0577011\ttotal: 384ms\tremaining: 779ms\n",
            "33:\tlearn: 0.0561431\ttotal: 394ms\tremaining: 765ms\n",
            "34:\tlearn: 0.0538221\ttotal: 414ms\tremaining: 770ms\n",
            "35:\tlearn: 0.0514323\ttotal: 433ms\tremaining: 770ms\n",
            "36:\tlearn: 0.0496646\ttotal: 451ms\tremaining: 768ms\n",
            "37:\tlearn: 0.0479102\ttotal: 466ms\tremaining: 760ms\n",
            "38:\tlearn: 0.0473500\ttotal: 490ms\tremaining: 766ms\n",
            "39:\tlearn: 0.0460758\ttotal: 508ms\tremaining: 762ms\n",
            "40:\tlearn: 0.0451061\ttotal: 528ms\tremaining: 760ms\n",
            "41:\tlearn: 0.0437250\ttotal: 545ms\tremaining: 752ms\n",
            "42:\tlearn: 0.0423694\ttotal: 558ms\tremaining: 740ms\n",
            "43:\tlearn: 0.0416244\ttotal: 571ms\tremaining: 727ms\n",
            "44:\tlearn: 0.0406957\ttotal: 583ms\tremaining: 712ms\n",
            "45:\tlearn: 0.0394247\ttotal: 609ms\tremaining: 715ms\n",
            "46:\tlearn: 0.0379949\ttotal: 634ms\tremaining: 715ms\n",
            "47:\tlearn: 0.0370809\ttotal: 660ms\tremaining: 715ms\n",
            "48:\tlearn: 0.0362359\ttotal: 678ms\tremaining: 706ms\n",
            "49:\tlearn: 0.0354605\ttotal: 701ms\tremaining: 701ms\n",
            "50:\tlearn: 0.0340834\ttotal: 719ms\tremaining: 691ms\n",
            "51:\tlearn: 0.0333030\ttotal: 732ms\tremaining: 675ms\n",
            "52:\tlearn: 0.0323092\ttotal: 744ms\tremaining: 660ms\n",
            "53:\tlearn: 0.0314505\ttotal: 761ms\tremaining: 649ms\n",
            "54:\tlearn: 0.0310627\ttotal: 782ms\tremaining: 640ms\n",
            "55:\tlearn: 0.0307493\ttotal: 790ms\tremaining: 621ms\n",
            "56:\tlearn: 0.0304988\ttotal: 813ms\tremaining: 613ms\n",
            "57:\tlearn: 0.0300564\ttotal: 841ms\tremaining: 609ms\n",
            "58:\tlearn: 0.0287852\ttotal: 860ms\tremaining: 597ms\n",
            "59:\tlearn: 0.0283124\ttotal: 882ms\tremaining: 588ms\n",
            "60:\tlearn: 0.0279354\ttotal: 901ms\tremaining: 576ms\n",
            "61:\tlearn: 0.0273922\ttotal: 920ms\tremaining: 564ms\n",
            "62:\tlearn: 0.0268552\ttotal: 933ms\tremaining: 548ms\n",
            "63:\tlearn: 0.0262805\ttotal: 953ms\tremaining: 536ms\n",
            "64:\tlearn: 0.0259107\ttotal: 970ms\tremaining: 523ms\n",
            "65:\tlearn: 0.0253941\ttotal: 988ms\tremaining: 509ms\n",
            "66:\tlearn: 0.0251853\ttotal: 1.01s\tremaining: 497ms\n",
            "67:\tlearn: 0.0246185\ttotal: 1.03s\tremaining: 483ms\n",
            "68:\tlearn: 0.0241312\ttotal: 1.05s\tremaining: 472ms\n",
            "69:\tlearn: 0.0237167\ttotal: 1.07s\tremaining: 459ms\n",
            "70:\tlearn: 0.0233791\ttotal: 1.09s\tremaining: 447ms\n",
            "71:\tlearn: 0.0229182\ttotal: 1.11s\tremaining: 434ms\n",
            "72:\tlearn: 0.0225509\ttotal: 1.14s\tremaining: 420ms\n",
            "73:\tlearn: 0.0221434\ttotal: 1.16s\tremaining: 407ms\n",
            "74:\tlearn: 0.0215938\ttotal: 1.18s\tremaining: 393ms\n",
            "75:\tlearn: 0.0211501\ttotal: 1.2s\tremaining: 378ms\n",
            "76:\tlearn: 0.0208002\ttotal: 1.22s\tremaining: 363ms\n",
            "77:\tlearn: 0.0203733\ttotal: 1.23s\tremaining: 348ms\n",
            "78:\tlearn: 0.0198859\ttotal: 1.25s\tremaining: 334ms\n",
            "79:\tlearn: 0.0195723\ttotal: 1.28s\tremaining: 319ms\n",
            "80:\tlearn: 0.0193985\ttotal: 1.3s\tremaining: 305ms\n",
            "81:\tlearn: 0.0189824\ttotal: 1.32s\tremaining: 291ms\n",
            "82:\tlearn: 0.0186584\ttotal: 1.35s\tremaining: 276ms\n",
            "83:\tlearn: 0.0182538\ttotal: 1.37s\tremaining: 262ms\n",
            "84:\tlearn: 0.0178611\ttotal: 1.39s\tremaining: 246ms\n",
            "85:\tlearn: 0.0176007\ttotal: 1.41s\tremaining: 230ms\n",
            "86:\tlearn: 0.0171955\ttotal: 1.43s\tremaining: 214ms\n",
            "87:\tlearn: 0.0169820\ttotal: 1.46s\tremaining: 199ms\n",
            "88:\tlearn: 0.0166521\ttotal: 1.48s\tremaining: 182ms\n",
            "89:\tlearn: 0.0163265\ttotal: 1.5s\tremaining: 167ms\n",
            "90:\tlearn: 0.0159792\ttotal: 1.52s\tremaining: 150ms\n",
            "91:\tlearn: 0.0157390\ttotal: 1.55s\tremaining: 135ms\n",
            "92:\tlearn: 0.0154628\ttotal: 1.57s\tremaining: 118ms\n",
            "93:\tlearn: 0.0151658\ttotal: 1.59s\tremaining: 102ms\n",
            "94:\tlearn: 0.0148581\ttotal: 1.61s\tremaining: 85ms\n",
            "95:\tlearn: 0.0146154\ttotal: 1.63s\tremaining: 68.1ms\n",
            "96:\tlearn: 0.0144033\ttotal: 1.65s\tremaining: 51.1ms\n",
            "97:\tlearn: 0.0143332\ttotal: 1.67s\tremaining: 34.1ms\n",
            "98:\tlearn: 0.0142104\ttotal: 1.7s\tremaining: 17.1ms\n",
            "99:\tlearn: 0.0139612\ttotal: 1.72s\tremaining: 0us\n"
          ]
        },
        {
          "output_type": "execute_result",
          "data": {
            "text/plain": [
              "<catboost.core.CatBoostClassifier at 0x7b62a4fed250>"
            ]
          },
          "metadata": {},
          "execution_count": 8
        }
      ]
    },
    {
      "cell_type": "code",
      "source": [
        "#Taking the predictions from the model\n",
        "y_train_pred = model.predict(X_train)\n",
        "y_test_pred = model.predict(X_test)"
      ],
      "metadata": {
        "id": "i4cAn2XipDXl"
      },
      "execution_count": 9,
      "outputs": []
    },
    {
      "cell_type": "code",
      "source": [
        "# Model Evaluation on training data\n",
        "print('Training Accuracy :', np.round(metrics.accuracy_score(y_train, y_train_pred), 3))\n",
        "print('Training Precision :', np.round(metrics.precision_score(y_train, y_train_pred), 3))\n",
        "print('Training Recall :', np.round(metrics.recall_score(y_train, y_train_pred), 3))\n",
        "print('Training F1 Score :', np.round(metrics.f1_score(y_train, y_train_pred), 3))\n",
        "\n",
        "\n",
        "print('\\nTesting Accuracy :', np.round(metrics.accuracy_score(y_test, y_test_pred), 3))\n",
        "print('Testing Precision :', np.round(metrics.precision_score(y_test, y_test_pred), 3))\n",
        "print('Testing Recall :', np.round(metrics.recall_score(y_test, y_test_pred), 3))\n",
        "print('Testing F1 Score :', np.round(metrics.f1_score(y_test, y_test_pred), 3))"
      ],
      "metadata": {
        "colab": {
          "base_uri": "https://localhost:8080/"
        },
        "id": "sNRUzbropFdw",
        "outputId": "bed08941-911e-4712-83e8-b45799e51b39"
      },
      "execution_count": 11,
      "outputs": [
        {
          "output_type": "stream",
          "name": "stdout",
          "text": [
            "Training Accuracy : 1.0\n",
            "Training Precision : 1.0\n",
            "Training Recall : 1.0\n",
            "Training F1 Score : 1.0\n",
            "\n",
            "Testing Accuracy : 0.974\n",
            "Testing Precision : 0.957\n",
            "Testing Recall : 1.0\n",
            "Testing F1 Score : 0.978\n"
          ]
        }
      ]
    },
    {
      "cell_type": "code",
      "source": [
        "'''\n",
        "Comments -> Model Looks optimal as ->\n",
        "(A) Training and Testing perfomance are above 95%\n",
        "(B) Training and Testing Performance is within 5%\n",
        "'''"
      ],
      "metadata": {
        "id": "cTntlKGypgnv"
      },
      "execution_count": null,
      "outputs": []
    }
  ]
}