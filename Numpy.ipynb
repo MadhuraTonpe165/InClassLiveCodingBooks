{
  "nbformat": 4,
  "nbformat_minor": 0,
  "metadata": {
    "colab": {
      "provenance": [],
      "authorship_tag": "ABX9TyOlNJS5RwMeFqzl4JE2LRxU",
      "include_colab_link": true
    },
    "kernelspec": {
      "name": "python3",
      "display_name": "Python 3"
    },
    "language_info": {
      "name": "python"
    }
  },
  "cells": [
    {
      "cell_type": "markdown",
      "metadata": {
        "id": "view-in-github",
        "colab_type": "text"
      },
      "source": [
        "<a href=\"https://colab.research.google.com/github/MadhuraTonpe165/InClassLiveCodingBooks/blob/main/Numpy.ipynb\" target=\"_parent\"><img src=\"https://colab.research.google.com/assets/colab-badge.svg\" alt=\"Open In Colab\"/></a>"
      ]
    },
    {
      "cell_type": "code",
      "execution_count": 1,
      "metadata": {
        "colab": {
          "base_uri": "https://localhost:8080/"
        },
        "id": "i_tbOYIevNbE",
        "outputId": "b04a0f16-3e2e-4bdc-f5d0-3a9534ff3980"
      },
      "outputs": [
        {
          "output_type": "stream",
          "name": "stdout",
          "text": [
            "Requirement already satisfied: numpy in /usr/local/lib/python3.11/dist-packages (1.26.4)\n"
          ]
        }
      ],
      "source": [
        "# Installing numpy\n",
        "!pip install numpy"
      ]
    },
    {
      "cell_type": "code",
      "source": [
        "# Importing numpy\n",
        "import numpy as np\n"
      ],
      "metadata": {
        "id": "CNd3ZJijvaVA"
      },
      "execution_count": 5,
      "outputs": []
    },
    {
      "cell_type": "code",
      "source": [
        "# Creating a numpy array\n",
        "arr = np.array([1,2,3,4,5])\n",
        "print('Array:\\n', arr)\n",
        "print('Shape :' , arr.shape)\n",
        "print('Type :', type(arr))\n",
        "print('Data Type :', arr.dtype)\n",
        "print('Number of Dimentions :', arr.ndim)"
      ],
      "metadata": {
        "colab": {
          "base_uri": "https://localhost:8080/"
        },
        "id": "0ghtmX-Vv-5Z",
        "outputId": "2c78d9bf-6e85-41c8-dfe0-25d5bdd86366"
      },
      "execution_count": 9,
      "outputs": [
        {
          "output_type": "stream",
          "name": "stdout",
          "text": [
            "Array:\n",
            " [1 2 3 4 5]\n",
            "Shape : (5,)\n",
            "Type : <class 'numpy.ndarray'>\n",
            "Data Type : int64\n",
            "Number of Dimentions : 1\n"
          ]
        }
      ]
    },
    {
      "cell_type": "code",
      "source": [
        "'''\n",
        "ndarray - > n dimentional array\n",
        "Numpy array are compared wuth Python Lists on 2 points - >\n",
        "  1. size - > Numpy Data structures take up less space\n",
        "  2. Performance - > they have a need for the speed and are faster than Lists\n",
        "'''"
      ],
      "metadata": {
        "id": "dkhURKruxYlt"
      },
      "execution_count": null,
      "outputs": []
    },
    {
      "cell_type": "code",
      "source": [
        "#Size Comparisons\n",
        "import sys\n",
        "\n",
        "#Declarating a list of 1000 elements\n",
        "S = range(1000)\n",
        "\n",
        "#Output\n",
        "print('Size of each element of list in byte : ', sys.getsizeof(S) )\n",
        "print('Size of the whole List in bytes :', sys.getsizeof(S)* len(S))\n",
        "\n",
        "#Declarating a numpy array of 1000 elements\n",
        "D = np.arange(1000)\n",
        "\n",
        "#Output\n",
        "print('\\nSize of each element of numpy array in byte : ', D.itemsize )\n",
        "print('Size of the whole Numpy array in bytes : ', D.size * D.itemsize)\n"
      ],
      "metadata": {
        "colab": {
          "base_uri": "https://localhost:8080/"
        },
        "id": "9dmlpe3dxYST",
        "outputId": "12452b8b-ea88-49b2-ea1d-bfd66023d1b3"
      },
      "execution_count": 11,
      "outputs": [
        {
          "output_type": "stream",
          "name": "stdout",
          "text": [
            "\n",
            "Size of each element of list in byte :  48\n",
            "Size of the whole List in bytes : 48000\n",
            "\n",
            "Size of each element of numpy array in byte :  8\n",
            "\n",
            "Size of the whole Numpy array in bytes :  8000\n"
          ]
        }
      ]
    },
    {
      "cell_type": "code",
      "source": [
        "#np.arange(start, end, step)\n",
        "\n",
        "np.arange(1, 10, 1)"
      ],
      "metadata": {
        "colab": {
          "base_uri": "https://localhost:8080/"
        },
        "id": "ZETzjc_Szrwv",
        "outputId": "ba9dafc1-db44-462d-997d-46f78721a631"
      },
      "execution_count": 12,
      "outputs": [
        {
          "output_type": "execute_result",
          "data": {
            "text/plain": [
              "array([1, 2, 3, 4, 5, 6, 7, 8, 9])"
            ]
          },
          "metadata": {},
          "execution_count": 12
        }
      ]
    },
    {
      "cell_type": "code",
      "source": [
        "# ending value is not included"
      ],
      "metadata": {
        "id": "iFWUdu4hz4bg"
      },
      "execution_count": null,
      "outputs": []
    },
    {
      "cell_type": "code",
      "source": [
        "np.arange(10)"
      ],
      "metadata": {
        "colab": {
          "base_uri": "https://localhost:8080/"
        },
        "id": "I-ZoxOVz0Na4",
        "outputId": "3b41485b-3c9a-438e-8012-bca199ff69c9"
      },
      "execution_count": 16,
      "outputs": [
        {
          "output_type": "execute_result",
          "data": {
            "text/plain": [
              "array([0, 1, 2, 3, 4, 5, 6, 7, 8, 9])"
            ]
          },
          "metadata": {},
          "execution_count": 16
        }
      ]
    },
    {
      "cell_type": "code",
      "source": [
        "# Default starting value is 0\n",
        "# Default step is 1"
      ],
      "metadata": {
        "id": "yV8zfKrzz8O7"
      },
      "execution_count": null,
      "outputs": []
    },
    {
      "cell_type": "code",
      "source": [
        "#np.arange(start, end, step)\n",
        "np.arange(1, 10, 2)"
      ],
      "metadata": {
        "colab": {
          "base_uri": "https://localhost:8080/"
        },
        "id": "bKK7UWu80H4X",
        "outputId": "6f7728db-f679-4cdb-ace2-118cc258a733"
      },
      "execution_count": 17,
      "outputs": [
        {
          "output_type": "execute_result",
          "data": {
            "text/plain": [
              "array([1, 3, 5, 7, 9])"
            ]
          },
          "metadata": {},
          "execution_count": 17
        }
      ]
    },
    {
      "cell_type": "code",
      "source": [
        "#np.arange(start, end, step)\n",
        "np.arange(1, 10)"
      ],
      "metadata": {
        "colab": {
          "base_uri": "https://localhost:8080/"
        },
        "id": "Ngg9welU0WE7",
        "outputId": "c4558c04-4b41-4895-c34c-a325de7f6d5a"
      },
      "execution_count": 14,
      "outputs": [
        {
          "output_type": "execute_result",
          "data": {
            "text/plain": [
              "array([1, 2, 3, 4, 5, 6, 7, 8, 9])"
            ]
          },
          "metadata": {},
          "execution_count": 14
        }
      ]
    },
    {
      "cell_type": "code",
      "source": [
        "np.arange(stop = 10, step = 2)"
      ],
      "metadata": {
        "colab": {
          "base_uri": "https://localhost:8080/"
        },
        "id": "rsfnyHjc09fH",
        "outputId": "3f248165-050c-4849-86b4-bf66d9027e57"
      },
      "execution_count": 18,
      "outputs": [
        {
          "output_type": "execute_result",
          "data": {
            "text/plain": [
              "array([0, 2, 4, 6, 8])"
            ]
          },
          "metadata": {},
          "execution_count": 18
        }
      ]
    },
    {
      "cell_type": "code",
      "source": [
        "np.arange(start = 10, stop = 100, step = 2)"
      ],
      "metadata": {
        "colab": {
          "base_uri": "https://localhost:8080/"
        },
        "id": "-jWWEhoK1PHk",
        "outputId": "532155b9-9e88-4536-e1b5-3cd45cc56694"
      },
      "execution_count": 21,
      "outputs": [
        {
          "output_type": "execute_result",
          "data": {
            "text/plain": [
              "array([10, 12, 14, 16, 18, 20, 22, 24, 26, 28, 30, 32, 34, 36, 38, 40, 42,\n",
              "       44, 46, 48, 50, 52, 54, 56, 58, 60, 62, 64, 66, 68, 70, 72, 74, 76,\n",
              "       78, 80, 82, 84, 86, 88, 90, 92, 94, 96, 98])"
            ]
          },
          "metadata": {},
          "execution_count": 21
        }
      ]
    },
    {
      "cell_type": "code",
      "source": [
        "#defining stop to a array is mandatory"
      ],
      "metadata": {
        "id": "QR5-N6JE1kWJ"
      },
      "execution_count": null,
      "outputs": []
    },
    {
      "cell_type": "code",
      "source": [
        "# Performance Comparison\n",
        "# Importing Time\n",
        "\n",
        "import time\n",
        "\n",
        "# Size of arrays and lists\n",
        "size = 1000000\n",
        "\n",
        "#Declaring lists\n",
        "list1 = range(size)\n",
        "list2 = range(size)\n",
        "\n",
        "# Declaring arrays\n",
        "array1 = np.arange(size)\n",
        "array2 = np.arange(size)\n",
        "\n",
        "# Captuirng the time before the operation\n",
        "initialTime = time.time()\n",
        "\n",
        "#Mutiplying the elements\n",
        "resd = [(a * b) for a, b in zip(list1, list2)]\n",
        "\n",
        "#Capturing the time after the operation\n",
        "print('Time taken by Lists to perform multiplication :', (time.time() - initialTime)*1000, 'ms')\n",
        "\n",
        "\n",
        "# Captuirng the time before the operation\n",
        "initialTimearray = time.time()\n",
        "\n",
        "#Multiplying the arrays\n",
        "res = array1 * array2\n",
        "\n",
        "# Capturing the time after the operation\n",
        "print('\\nTime taken by Numpy aray to perform multiplication :', (time.time() - initialTimearray)*1000, 'ms' )"
      ],
      "metadata": {
        "colab": {
          "base_uri": "https://localhost:8080/"
        },
        "id": "dtF5G54X1sRE",
        "outputId": "561c586f-b94a-4b41-e6c6-e8c9a17e6d51"
      },
      "execution_count": 23,
      "outputs": [
        {
          "output_type": "stream",
          "name": "stdout",
          "text": [
            "Time taken by Lists to perform multiplication : 89.02311325073242 ms\n",
            "\n",
            "Time taken by Numpy aray to perform multiplication : 12.235641479492188 ms\n"
          ]
        }
      ]
    },
    {
      "cell_type": "code",
      "source": [
        "89.02311325073242/12.235641479492188"
      ],
      "metadata": {
        "colab": {
          "base_uri": "https://localhost:8080/"
        },
        "id": "gyXxA4yS5bpT",
        "outputId": "f717c244-0a0d-46bc-c027-c460eb8254f0"
      },
      "execution_count": 24,
      "outputs": [
        {
          "output_type": "execute_result",
          "data": {
            "text/plain": [
              "7.275720966484801"
            ]
          },
          "metadata": {},
          "execution_count": 24
        }
      ]
    },
    {
      "cell_type": "code",
      "source": [
        "#numpy array are faster than python lists"
      ],
      "metadata": {
        "id": "kMtI7_AN5hVh"
      },
      "execution_count": null,
      "outputs": []
    },
    {
      "cell_type": "code",
      "source": [
        "#multiplying in 100 to convert to miliseconds oterwise it is in microseconds"
      ],
      "metadata": {
        "id": "fiAZ4UYa5QGa"
      },
      "execution_count": null,
      "outputs": []
    },
    {
      "cell_type": "code",
      "source": [
        "# Numpy arrays are homogenous means it support only one data type\n",
        "arr = np.array([1, 2.0, 'numpy'])\n",
        "print('Array : ', arr)\n",
        "print('Data Type :', arr.dtype)"
      ],
      "metadata": {
        "colab": {
          "base_uri": "https://localhost:8080/"
        },
        "id": "KAVX2u3A6EO-",
        "outputId": "40350b0f-3499-49e6-d930-35ee713a4bbe"
      },
      "execution_count": 25,
      "outputs": [
        {
          "output_type": "stream",
          "name": "stdout",
          "text": [
            "Array :  ['1' '2.0' 'numpy']\n",
            "Data Type : <U32\n"
          ]
        }
      ]
    },
    {
      "cell_type": "code",
      "source": [
        "#u32 -> unistring https://stackoverflow.com/questions/56944812/how-to-interpret-python-output-dtype-u32"
      ],
      "metadata": {
        "id": "3CW-zVWv6ifp"
      },
      "execution_count": null,
      "outputs": []
    },
    {
      "cell_type": "code",
      "source": [
        "arr = np.array([1, 2.0, 5.7])\n",
        "print('Array : ', arr)\n",
        "print('Data Type :', arr.dtype)"
      ],
      "metadata": {
        "colab": {
          "base_uri": "https://localhost:8080/"
        },
        "id": "RpUibnuz6uCd",
        "outputId": "02065db6-012c-4ea7-9f12-67f2793a95c7"
      },
      "execution_count": 26,
      "outputs": [
        {
          "output_type": "stream",
          "name": "stdout",
          "text": [
            "Array :  [1.  2.  5.7]\n",
            "Data Type : float64\n"
          ]
        }
      ]
    },
    {
      "cell_type": "code",
      "source": [
        "arr = np.array(['num', 2.0, 'numpy'])\n",
        "print('Array : ', arr)\n",
        "print('Data Type :', arr.dtype)"
      ],
      "metadata": {
        "colab": {
          "base_uri": "https://localhost:8080/"
        },
        "id": "BhqmnbkR6zSR",
        "outputId": "196d3682-4668-44be-b777-f92327f6834b"
      },
      "execution_count": 27,
      "outputs": [
        {
          "output_type": "stream",
          "name": "stdout",
          "text": [
            "Array :  ['num' '2.0' 'numpy']\n",
            "Data Type : <U32\n"
          ]
        }
      ]
    },
    {
      "cell_type": "code",
      "source": [
        "arr = np.array([1, 2, 3.5])\n",
        "print('Array : ', arr)\n",
        "print('Data Type :', arr.dtype)"
      ],
      "metadata": {
        "colab": {
          "base_uri": "https://localhost:8080/"
        },
        "id": "y2neF-sn633X",
        "outputId": "3fa0ef18-c785-43b5-8b4c-4078b3ceb099"
      },
      "execution_count": 29,
      "outputs": [
        {
          "output_type": "stream",
          "name": "stdout",
          "text": [
            "Array :  [1.  2.  3.5]\n",
            "Data Type : float64\n"
          ]
        }
      ]
    },
    {
      "cell_type": "code",
      "source": [],
      "metadata": {
        "id": "SikmMq6xTQyZ"
      },
      "execution_count": null,
      "outputs": []
    },
    {
      "cell_type": "code",
      "source": [
        "#random module Numpy - > used to create an array of random values in the range(0, 1), nither 0 nor 1\n",
        "np.random.rand(3, 4)"
      ],
      "metadata": {
        "colab": {
          "base_uri": "https://localhost:8080/"
        },
        "id": "jgWCvOja8S89",
        "outputId": "973825c8-f8aa-47f5-87e1-fca84196eb1e"
      },
      "execution_count": 30,
      "outputs": [
        {
          "output_type": "execute_result",
          "data": {
            "text/plain": [
              "array([[0.69069455, 0.45095696, 0.51909973, 0.87937068],\n",
              "       [0.04029383, 0.27800555, 0.75322813, 0.23079993],\n",
              "       [0.50543031, 0.98926075, 0.26317709, 0.85506079]])"
            ]
          },
          "metadata": {},
          "execution_count": 30
        }
      ]
    },
    {
      "cell_type": "code",
      "source": [
        "#np.random.randn- > used to create an array of random nomal values\n",
        "# with mean  = 0 and stadard deviation = 1\n",
        "np.random.randn(2, 5)"
      ],
      "metadata": {
        "colab": {
          "base_uri": "https://localhost:8080/"
        },
        "id": "7gAMC2HM8vXj",
        "outputId": "78ce417a-7cb8-4e94-be25-b137229a350d"
      },
      "execution_count": 31,
      "outputs": [
        {
          "output_type": "execute_result",
          "data": {
            "text/plain": [
              "array([[0.0250558 , 0.19725497, 0.71598274, 0.25745692, 0.90477079],\n",
              "       [0.1293588 , 0.09039092, 0.19844685, 0.61000435, 0.16510761]])"
            ]
          },
          "metadata": {},
          "execution_count": 31
        }
      ]
    },
    {
      "cell_type": "code",
      "source": [
        "# np.randon.randint(low, high, size)\n",
        "np.random.randint(low = 1, high = 100, size = (3, 5))"
      ],
      "metadata": {
        "colab": {
          "base_uri": "https://localhost:8080/"
        },
        "id": "V71wVz9L84Ij",
        "outputId": "05ec34cd-d76a-4aeb-f3e3-eecf793623ab"
      },
      "execution_count": 32,
      "outputs": [
        {
          "output_type": "execute_result",
          "data": {
            "text/plain": [
              "array([[33,  9, 24, 70, 47],\n",
              "       [97,  7, 11, 65, 40],\n",
              "       [22, 67, 41, 56, 76]])"
            ]
          },
          "metadata": {},
          "execution_count": 32
        }
      ]
    },
    {
      "cell_type": "code",
      "source": [
        "# High valkue not included\n",
        "# randn and rand will always will create float array"
      ],
      "metadata": {
        "id": "FenxTiWQ9fMm"
      },
      "execution_count": null,
      "outputs": []
    }
  ]
}